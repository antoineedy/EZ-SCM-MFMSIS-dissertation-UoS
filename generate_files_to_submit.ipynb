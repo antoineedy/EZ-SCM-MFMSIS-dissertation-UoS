{
 "cells": [
  {
   "cell_type": "code",
   "execution_count": 17,
   "metadata": {},
   "outputs": [],
   "source": [
    "import os\n",
    "def gen(not_include:list):\n",
    "    # generate the list of all the files in the directory, except the ones in not_include\n",
    "    files = os.listdir()\n",
    "    for i in not_include:\n",
    "        if i in files:\n",
    "            files.remove(i)\n",
    "    files = [\"$ENV(PWD)/\" + i for i in files]\n",
    "    return \", \".join(files)"
   ]
  },
  {
   "cell_type": "code",
   "execution_count": 18,
   "metadata": {},
   "outputs": [
    {
     "data": {
      "text/plain": [
       "'$ENV(PWD)/antoine-zeg.submit_file, $ENV(PWD)/train.py, $ENV(PWD)/get_flops.py, $ENV(PWD)/logs, $ENV(PWD)/models, $ENV(PWD)/data, $ENV(PWD)/docker_stderror, $ENV(PWD)/start_training.py, $ENV(PWD)/test.py, $ENV(PWD)/dist_train.sh, $ENV(PWD)/weights, $ENV(PWD)/configs'"
      ]
     },
     "execution_count": 18,
     "metadata": {},
     "output_type": "execute_result"
    }
   ],
   "source": [
    "exc = ['cuda', '.gitignore', 'generate_files_to_submit.ipynb', 'README.md', 'requirements.txt', 'LICENSE', '.DS_Store', '.git', 'data.zip', 'weights.zip', 'Interacting_with_CLIP.ipynb']\n",
    "gen(exc)"
   ]
  }
 ],
 "metadata": {
  "kernelspec": {
   "display_name": "base",
   "language": "python",
   "name": "python3"
  },
  "language_info": {
   "codemirror_mode": {
    "name": "ipython",
    "version": 3
   },
   "file_extension": ".py",
   "mimetype": "text/x-python",
   "name": "python",
   "nbconvert_exporter": "python",
   "pygments_lexer": "ipython3",
   "version": "3.9.19"
  }
 },
 "nbformat": 4,
 "nbformat_minor": 2
}
